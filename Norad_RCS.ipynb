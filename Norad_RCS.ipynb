{
  "nbformat": 4,
  "nbformat_minor": 0,
  "metadata": {
    "colab": {
      "provenance": []
    },
    "kernelspec": {
      "name": "python3",
      "display_name": "Python 3"
    },
    "language_info": {
      "name": "python"
    }
  },
  "cells": [
    {
      "cell_type": "code",
      "execution_count": 16,
      "metadata": {
        "id": "Xm704sDGtnqa"
      },
      "outputs": [],
      "source": [
        "import pandas as pd\n",
        "\n",
        "import zipfile\n",
        "from urllib.request import urlopen\n",
        "import io"
      ]
    },
    {
      "cell_type": "code",
      "source": [
        "url = 'https://www.prismnet.com/~mmccants/catalogs/rcs.zip'\n",
        "zf = zipfile.ZipFile(io.BytesIO(urlopen(url).read()))\n",
        "zf.filelist"
      ],
      "metadata": {
        "colab": {
          "base_uri": "https://localhost:8080/"
        },
        "id": "RQG0Y5fcRuOq",
        "outputId": "f2593ec5-c652-45b3-e38a-404fbc3f4c43"
      },
      "execution_count": 17,
      "outputs": [
        {
          "output_type": "execute_result",
          "data": {
            "text/plain": [
              "[<ZipInfo filename='rcs' compress_type=deflate filemode='-r--------' external_attr=0x1 file_size=257782 compress_size=82426>]"
            ]
          },
          "metadata": {},
          "execution_count": 17
        }
      ]
    },
    {
      "cell_type": "code",
      "source": [
        "# f = open(zf.open('rcs'), 'r')\n",
        "# file_contents = f.read()\n",
        "# print (file_contents)"
      ],
      "metadata": {
        "id": "kr_uPIyAS37k"
      },
      "execution_count": null,
      "outputs": []
    },
    {
      "cell_type": "code",
      "source": [
        "colnames=['NORAD_CAT_ID', 'RCS', 'SOURCE'] \n",
        "bank = pd.read_csv(zf.open('rcs'), delimiter=\" \", names=colnames, header=None)\n",
        "bank.head()"
      ],
      "metadata": {
        "colab": {
          "base_uri": "https://localhost:8080/",
          "height": 206
        },
        "id": "Darb6wM8SPNJ",
        "outputId": "4260453d-355f-4e4c-83e1-5304f65c1e2b"
      },
      "execution_count": 23,
      "outputs": [
        {
          "output_type": "execute_result",
          "data": {
            "text/plain": [
              "                       NORAD_CAT_ID  RCS  SOURCE\n",
              "NaN NaN NaN NaN  5.00          0.11  NaN     6.0\n",
              "            11.0 0.39         13.00  NaN     NaN\n",
              "            12.0 0.53         20.00  NaN     NaN\n",
              "            16.0 0.22         11.00  NaN     NaN\n",
              "            20.0 0.66         15.00  NaN     NaN"
            ],
            "text/html": [
              "\n",
              "  <div id=\"df-ba3a4e95-7b24-4972-ad4f-2a664233a8da\">\n",
              "    <div class=\"colab-df-container\">\n",
              "      <div>\n",
              "<style scoped>\n",
              "    .dataframe tbody tr th:only-of-type {\n",
              "        vertical-align: middle;\n",
              "    }\n",
              "\n",
              "    .dataframe tbody tr th {\n",
              "        vertical-align: top;\n",
              "    }\n",
              "\n",
              "    .dataframe thead th {\n",
              "        text-align: right;\n",
              "    }\n",
              "</style>\n",
              "<table border=\"1\" class=\"dataframe\">\n",
              "  <thead>\n",
              "    <tr style=\"text-align: right;\">\n",
              "      <th></th>\n",
              "      <th></th>\n",
              "      <th></th>\n",
              "      <th></th>\n",
              "      <th></th>\n",
              "      <th>NORAD_CAT_ID</th>\n",
              "      <th>RCS</th>\n",
              "      <th>SOURCE</th>\n",
              "    </tr>\n",
              "  </thead>\n",
              "  <tbody>\n",
              "    <tr>\n",
              "      <th rowspan=\"5\" valign=\"top\">NaN</th>\n",
              "      <th rowspan=\"5\" valign=\"top\">NaN</th>\n",
              "      <th rowspan=\"5\" valign=\"top\">NaN</th>\n",
              "      <th>NaN</th>\n",
              "      <th>5.00</th>\n",
              "      <td>0.11</td>\n",
              "      <td>NaN</td>\n",
              "      <td>6.0</td>\n",
              "    </tr>\n",
              "    <tr>\n",
              "      <th>11.0</th>\n",
              "      <th>0.39</th>\n",
              "      <td>13.00</td>\n",
              "      <td>NaN</td>\n",
              "      <td>NaN</td>\n",
              "    </tr>\n",
              "    <tr>\n",
              "      <th>12.0</th>\n",
              "      <th>0.53</th>\n",
              "      <td>20.00</td>\n",
              "      <td>NaN</td>\n",
              "      <td>NaN</td>\n",
              "    </tr>\n",
              "    <tr>\n",
              "      <th>16.0</th>\n",
              "      <th>0.22</th>\n",
              "      <td>11.00</td>\n",
              "      <td>NaN</td>\n",
              "      <td>NaN</td>\n",
              "    </tr>\n",
              "    <tr>\n",
              "      <th>20.0</th>\n",
              "      <th>0.66</th>\n",
              "      <td>15.00</td>\n",
              "      <td>NaN</td>\n",
              "      <td>NaN</td>\n",
              "    </tr>\n",
              "  </tbody>\n",
              "</table>\n",
              "</div>\n",
              "      <button class=\"colab-df-convert\" onclick=\"convertToInteractive('df-ba3a4e95-7b24-4972-ad4f-2a664233a8da')\"\n",
              "              title=\"Convert this dataframe to an interactive table.\"\n",
              "              style=\"display:none;\">\n",
              "        \n",
              "  <svg xmlns=\"http://www.w3.org/2000/svg\" height=\"24px\"viewBox=\"0 0 24 24\"\n",
              "       width=\"24px\">\n",
              "    <path d=\"M0 0h24v24H0V0z\" fill=\"none\"/>\n",
              "    <path d=\"M18.56 5.44l.94 2.06.94-2.06 2.06-.94-2.06-.94-.94-2.06-.94 2.06-2.06.94zm-11 1L8.5 8.5l.94-2.06 2.06-.94-2.06-.94L8.5 2.5l-.94 2.06-2.06.94zm10 10l.94 2.06.94-2.06 2.06-.94-2.06-.94-.94-2.06-.94 2.06-2.06.94z\"/><path d=\"M17.41 7.96l-1.37-1.37c-.4-.4-.92-.59-1.43-.59-.52 0-1.04.2-1.43.59L10.3 9.45l-7.72 7.72c-.78.78-.78 2.05 0 2.83L4 21.41c.39.39.9.59 1.41.59.51 0 1.02-.2 1.41-.59l7.78-7.78 2.81-2.81c.8-.78.8-2.07 0-2.86zM5.41 20L4 18.59l7.72-7.72 1.47 1.35L5.41 20z\"/>\n",
              "  </svg>\n",
              "      </button>\n",
              "      \n",
              "  <style>\n",
              "    .colab-df-container {\n",
              "      display:flex;\n",
              "      flex-wrap:wrap;\n",
              "      gap: 12px;\n",
              "    }\n",
              "\n",
              "    .colab-df-convert {\n",
              "      background-color: #E8F0FE;\n",
              "      border: none;\n",
              "      border-radius: 50%;\n",
              "      cursor: pointer;\n",
              "      display: none;\n",
              "      fill: #1967D2;\n",
              "      height: 32px;\n",
              "      padding: 0 0 0 0;\n",
              "      width: 32px;\n",
              "    }\n",
              "\n",
              "    .colab-df-convert:hover {\n",
              "      background-color: #E2EBFA;\n",
              "      box-shadow: 0px 1px 2px rgba(60, 64, 67, 0.3), 0px 1px 3px 1px rgba(60, 64, 67, 0.15);\n",
              "      fill: #174EA6;\n",
              "    }\n",
              "\n",
              "    [theme=dark] .colab-df-convert {\n",
              "      background-color: #3B4455;\n",
              "      fill: #D2E3FC;\n",
              "    }\n",
              "\n",
              "    [theme=dark] .colab-df-convert:hover {\n",
              "      background-color: #434B5C;\n",
              "      box-shadow: 0px 1px 3px 1px rgba(0, 0, 0, 0.15);\n",
              "      filter: drop-shadow(0px 1px 2px rgba(0, 0, 0, 0.3));\n",
              "      fill: #FFFFFF;\n",
              "    }\n",
              "  </style>\n",
              "\n",
              "      <script>\n",
              "        const buttonEl =\n",
              "          document.querySelector('#df-ba3a4e95-7b24-4972-ad4f-2a664233a8da button.colab-df-convert');\n",
              "        buttonEl.style.display =\n",
              "          google.colab.kernel.accessAllowed ? 'block' : 'none';\n",
              "\n",
              "        async function convertToInteractive(key) {\n",
              "          const element = document.querySelector('#df-ba3a4e95-7b24-4972-ad4f-2a664233a8da');\n",
              "          const dataTable =\n",
              "            await google.colab.kernel.invokeFunction('convertToInteractive',\n",
              "                                                     [key], {});\n",
              "          if (!dataTable) return;\n",
              "\n",
              "          const docLinkHtml = 'Like what you see? Visit the ' +\n",
              "            '<a target=\"_blank\" href=https://colab.research.google.com/notebooks/data_table.ipynb>data table notebook</a>'\n",
              "            + ' to learn more about interactive tables.';\n",
              "          element.innerHTML = '';\n",
              "          dataTable['output_type'] = 'display_data';\n",
              "          await google.colab.output.renderOutput(dataTable, element);\n",
              "          const docLink = document.createElement('div');\n",
              "          docLink.innerHTML = docLinkHtml;\n",
              "          element.appendChild(docLink);\n",
              "        }\n",
              "      </script>\n",
              "    </div>\n",
              "  </div>\n",
              "  "
            ]
          },
          "metadata": {},
          "execution_count": 23
        }
      ]
    },
    {
      "cell_type": "code",
      "source": [
        "\n",
        "\n",
        "colnames=['NORAD_CAT_ID', 'RCS', 'SOURCE'] \n",
        "sat0 = pd.read_csv('/content/rcs_1.csv')"
      ],
      "metadata": {
        "id": "nX5XN6PsVX85"
      },
      "execution_count": 36,
      "outputs": []
    },
    {
      "cell_type": "code",
      "source": [
        "# https://www.prismnet.com/~mmccants/catalogs/index.html\n",
        "\n",
        "colnames=['NORAD_CAT_ID', 'RCS', 'SOURCE'] \n",
        "sat0 = pd.read_csv('https://www.prismnet.com/~mmccants/catalogs/rcs.zip', delimiter=\" \", names=colnames, header=None)\n"
      ],
      "metadata": {
        "id": "jTmiSaWYNoGa"
      },
      "execution_count": 28,
      "outputs": []
    },
    {
      "cell_type": "code",
      "source": [
        "sat0.head()"
      ],
      "metadata": {
        "colab": {
          "base_uri": "https://localhost:8080/",
          "height": 206
        },
        "id": "yVfOCFzTRLe5",
        "outputId": "c2af76dc-4c6c-485f-c50f-2bcaa933c243"
      },
      "execution_count": 37,
      "outputs": [
        {
          "output_type": "execute_result",
          "data": {
            "text/plain": [
              "   NORAD_CAT_ID   RCS  SOURCE\n",
              "0             5  0.11       6\n",
              "1            11  0.39      13\n",
              "2            12  0.53      20\n",
              "3            16  0.22      11\n",
              "4            20  0.66      15"
            ],
            "text/html": [
              "\n",
              "  <div id=\"df-49e74b23-c87b-44d8-920d-8cfd82f6c164\">\n",
              "    <div class=\"colab-df-container\">\n",
              "      <div>\n",
              "<style scoped>\n",
              "    .dataframe tbody tr th:only-of-type {\n",
              "        vertical-align: middle;\n",
              "    }\n",
              "\n",
              "    .dataframe tbody tr th {\n",
              "        vertical-align: top;\n",
              "    }\n",
              "\n",
              "    .dataframe thead th {\n",
              "        text-align: right;\n",
              "    }\n",
              "</style>\n",
              "<table border=\"1\" class=\"dataframe\">\n",
              "  <thead>\n",
              "    <tr style=\"text-align: right;\">\n",
              "      <th></th>\n",
              "      <th>NORAD_CAT_ID</th>\n",
              "      <th>RCS</th>\n",
              "      <th>SOURCE</th>\n",
              "    </tr>\n",
              "  </thead>\n",
              "  <tbody>\n",
              "    <tr>\n",
              "      <th>0</th>\n",
              "      <td>5</td>\n",
              "      <td>0.11</td>\n",
              "      <td>6</td>\n",
              "    </tr>\n",
              "    <tr>\n",
              "      <th>1</th>\n",
              "      <td>11</td>\n",
              "      <td>0.39</td>\n",
              "      <td>13</td>\n",
              "    </tr>\n",
              "    <tr>\n",
              "      <th>2</th>\n",
              "      <td>12</td>\n",
              "      <td>0.53</td>\n",
              "      <td>20</td>\n",
              "    </tr>\n",
              "    <tr>\n",
              "      <th>3</th>\n",
              "      <td>16</td>\n",
              "      <td>0.22</td>\n",
              "      <td>11</td>\n",
              "    </tr>\n",
              "    <tr>\n",
              "      <th>4</th>\n",
              "      <td>20</td>\n",
              "      <td>0.66</td>\n",
              "      <td>15</td>\n",
              "    </tr>\n",
              "  </tbody>\n",
              "</table>\n",
              "</div>\n",
              "      <button class=\"colab-df-convert\" onclick=\"convertToInteractive('df-49e74b23-c87b-44d8-920d-8cfd82f6c164')\"\n",
              "              title=\"Convert this dataframe to an interactive table.\"\n",
              "              style=\"display:none;\">\n",
              "        \n",
              "  <svg xmlns=\"http://www.w3.org/2000/svg\" height=\"24px\"viewBox=\"0 0 24 24\"\n",
              "       width=\"24px\">\n",
              "    <path d=\"M0 0h24v24H0V0z\" fill=\"none\"/>\n",
              "    <path d=\"M18.56 5.44l.94 2.06.94-2.06 2.06-.94-2.06-.94-.94-2.06-.94 2.06-2.06.94zm-11 1L8.5 8.5l.94-2.06 2.06-.94-2.06-.94L8.5 2.5l-.94 2.06-2.06.94zm10 10l.94 2.06.94-2.06 2.06-.94-2.06-.94-.94-2.06-.94 2.06-2.06.94z\"/><path d=\"M17.41 7.96l-1.37-1.37c-.4-.4-.92-.59-1.43-.59-.52 0-1.04.2-1.43.59L10.3 9.45l-7.72 7.72c-.78.78-.78 2.05 0 2.83L4 21.41c.39.39.9.59 1.41.59.51 0 1.02-.2 1.41-.59l7.78-7.78 2.81-2.81c.8-.78.8-2.07 0-2.86zM5.41 20L4 18.59l7.72-7.72 1.47 1.35L5.41 20z\"/>\n",
              "  </svg>\n",
              "      </button>\n",
              "      \n",
              "  <style>\n",
              "    .colab-df-container {\n",
              "      display:flex;\n",
              "      flex-wrap:wrap;\n",
              "      gap: 12px;\n",
              "    }\n",
              "\n",
              "    .colab-df-convert {\n",
              "      background-color: #E8F0FE;\n",
              "      border: none;\n",
              "      border-radius: 50%;\n",
              "      cursor: pointer;\n",
              "      display: none;\n",
              "      fill: #1967D2;\n",
              "      height: 32px;\n",
              "      padding: 0 0 0 0;\n",
              "      width: 32px;\n",
              "    }\n",
              "\n",
              "    .colab-df-convert:hover {\n",
              "      background-color: #E2EBFA;\n",
              "      box-shadow: 0px 1px 2px rgba(60, 64, 67, 0.3), 0px 1px 3px 1px rgba(60, 64, 67, 0.15);\n",
              "      fill: #174EA6;\n",
              "    }\n",
              "\n",
              "    [theme=dark] .colab-df-convert {\n",
              "      background-color: #3B4455;\n",
              "      fill: #D2E3FC;\n",
              "    }\n",
              "\n",
              "    [theme=dark] .colab-df-convert:hover {\n",
              "      background-color: #434B5C;\n",
              "      box-shadow: 0px 1px 3px 1px rgba(0, 0, 0, 0.15);\n",
              "      filter: drop-shadow(0px 1px 2px rgba(0, 0, 0, 0.3));\n",
              "      fill: #FFFFFF;\n",
              "    }\n",
              "  </style>\n",
              "\n",
              "      <script>\n",
              "        const buttonEl =\n",
              "          document.querySelector('#df-49e74b23-c87b-44d8-920d-8cfd82f6c164 button.colab-df-convert');\n",
              "        buttonEl.style.display =\n",
              "          google.colab.kernel.accessAllowed ? 'block' : 'none';\n",
              "\n",
              "        async function convertToInteractive(key) {\n",
              "          const element = document.querySelector('#df-49e74b23-c87b-44d8-920d-8cfd82f6c164');\n",
              "          const dataTable =\n",
              "            await google.colab.kernel.invokeFunction('convertToInteractive',\n",
              "                                                     [key], {});\n",
              "          if (!dataTable) return;\n",
              "\n",
              "          const docLinkHtml = 'Like what you see? Visit the ' +\n",
              "            '<a target=\"_blank\" href=https://colab.research.google.com/notebooks/data_table.ipynb>data table notebook</a>'\n",
              "            + ' to learn more about interactive tables.';\n",
              "          element.innerHTML = '';\n",
              "          dataTable['output_type'] = 'display_data';\n",
              "          await google.colab.output.renderOutput(dataTable, element);\n",
              "          const docLink = document.createElement('div');\n",
              "          docLink.innerHTML = docLinkHtml;\n",
              "          element.appendChild(docLink);\n",
              "        }\n",
              "      </script>\n",
              "    </div>\n",
              "  </div>\n",
              "  "
            ]
          },
          "metadata": {},
          "execution_count": 37
        }
      ]
    },
    {
      "cell_type": "code",
      "source": [
        "print(sat0)"
      ],
      "metadata": {
        "colab": {
          "base_uri": "https://localhost:8080/"
        },
        "id": "Hu33NBV8Nvlx",
        "outputId": "e57f6066-ce23-4123-af08-f64ca9b21e27"
      },
      "execution_count": null,
      "outputs": [
        {
          "output_type": "stream",
          "name": "stdout",
          "text": [
            "        NORAD_CAT_ID  RCS  SOURCE\n",
            "0          5 0.11  6  NaN     NaN\n",
            "1         11 0.39 13  NaN     NaN\n",
            "2         12 0.53 20  NaN     NaN\n",
            "3         16 0.22 11  NaN     NaN\n",
            "4         20 0.66 15  NaN     NaN\n",
            "...              ...  ...     ...\n",
            "17181  42668 .012  1  NaN     NaN\n",
            "17182  42669 .033  1  NaN     NaN\n",
            "17183  42673 .026  1  NaN     NaN\n",
            "17184  42674 .006  1  NaN     NaN\n",
            "17185          99999  NaN     NaN\n",
            "\n",
            "[17186 rows x 3 columns]\n"
          ]
        }
      ]
    },
    {
      "cell_type": "code",
      "source": [],
      "metadata": {
        "id": "FxvXYlKeP3IZ"
      },
      "execution_count": null,
      "outputs": []
    },
    {
      "cell_type": "code",
      "source": [
        "sat = pd.read_csv(\"https://celestrak.org/pub/satcat.csv\")"
      ],
      "metadata": {
        "id": "KWJ_RDGauLuO"
      },
      "execution_count": null,
      "outputs": []
    },
    {
      "cell_type": "code",
      "source": [
        "sat.head()"
      ],
      "metadata": {
        "colab": {
          "base_uri": "https://localhost:8080/",
          "height": 270
        },
        "id": "DJgaPGE_uxpc",
        "outputId": "7961c97f-3495-4c95-98fd-e684635ef986"
      },
      "execution_count": null,
      "outputs": [
        {
          "output_type": "execute_result",
          "data": {
            "text/plain": [
              "  OBJECT_NAME  OBJECT_ID  NORAD_CAT_ID OBJECT_TYPE OPS_STATUS_CODE OWNER  \\\n",
              "0    SL-1 R/B  1957-001A             1         R/B               D   CIS   \n",
              "1   SPUTNIK 1  1957-001B             2         PAY               D   CIS   \n",
              "2   SPUTNIK 2  1957-002A             3         PAY               D   CIS   \n",
              "3  EXPLORER 1  1958-001A             4         PAY               D    US   \n",
              "4  VANGUARD 1  1958-002B             5         PAY             NaN    US   \n",
              "\n",
              "  LAUNCH_DATE LAUNCH_SITE  DECAY_DATE  PERIOD  INCLINATION  APOGEE  PERIGEE  \\\n",
              "0  1957-10-04       TYMSC  1957-12-01   96.19        65.10   938.0    214.0   \n",
              "1  1957-10-04       TYMSC  1958-01-03   96.10        65.00  1080.0     64.0   \n",
              "2  1957-11-03       TYMSC  1958-04-14  103.74        65.33  1659.0    211.0   \n",
              "3  1958-02-01       AFETR  1970-03-31   88.48        33.15   215.0    183.0   \n",
              "4  1958-03-17       AFETR         NaN  132.72        34.26  3833.0    648.0   \n",
              "\n",
              "      RCS DATA_STATUS_CODE ORBIT_CENTER ORBIT_TYPE  \n",
              "0  20.420              NaN           EA        IMP  \n",
              "1     NaN              NaN           EA        IMP  \n",
              "2   0.080              NaN           EA        IMP  \n",
              "3     NaN              NaN           EA        IMP  \n",
              "4   0.122              NaN           EA        ORB  "
            ],
            "text/html": [
              "\n",
              "  <div id=\"df-1d1ad3d6-597d-41b4-a804-cbe7ed7c0156\">\n",
              "    <div class=\"colab-df-container\">\n",
              "      <div>\n",
              "<style scoped>\n",
              "    .dataframe tbody tr th:only-of-type {\n",
              "        vertical-align: middle;\n",
              "    }\n",
              "\n",
              "    .dataframe tbody tr th {\n",
              "        vertical-align: top;\n",
              "    }\n",
              "\n",
              "    .dataframe thead th {\n",
              "        text-align: right;\n",
              "    }\n",
              "</style>\n",
              "<table border=\"1\" class=\"dataframe\">\n",
              "  <thead>\n",
              "    <tr style=\"text-align: right;\">\n",
              "      <th></th>\n",
              "      <th>OBJECT_NAME</th>\n",
              "      <th>OBJECT_ID</th>\n",
              "      <th>NORAD_CAT_ID</th>\n",
              "      <th>OBJECT_TYPE</th>\n",
              "      <th>OPS_STATUS_CODE</th>\n",
              "      <th>OWNER</th>\n",
              "      <th>LAUNCH_DATE</th>\n",
              "      <th>LAUNCH_SITE</th>\n",
              "      <th>DECAY_DATE</th>\n",
              "      <th>PERIOD</th>\n",
              "      <th>INCLINATION</th>\n",
              "      <th>APOGEE</th>\n",
              "      <th>PERIGEE</th>\n",
              "      <th>RCS</th>\n",
              "      <th>DATA_STATUS_CODE</th>\n",
              "      <th>ORBIT_CENTER</th>\n",
              "      <th>ORBIT_TYPE</th>\n",
              "    </tr>\n",
              "  </thead>\n",
              "  <tbody>\n",
              "    <tr>\n",
              "      <th>0</th>\n",
              "      <td>SL-1 R/B</td>\n",
              "      <td>1957-001A</td>\n",
              "      <td>1</td>\n",
              "      <td>R/B</td>\n",
              "      <td>D</td>\n",
              "      <td>CIS</td>\n",
              "      <td>1957-10-04</td>\n",
              "      <td>TYMSC</td>\n",
              "      <td>1957-12-01</td>\n",
              "      <td>96.19</td>\n",
              "      <td>65.10</td>\n",
              "      <td>938.0</td>\n",
              "      <td>214.0</td>\n",
              "      <td>20.420</td>\n",
              "      <td>NaN</td>\n",
              "      <td>EA</td>\n",
              "      <td>IMP</td>\n",
              "    </tr>\n",
              "    <tr>\n",
              "      <th>1</th>\n",
              "      <td>SPUTNIK 1</td>\n",
              "      <td>1957-001B</td>\n",
              "      <td>2</td>\n",
              "      <td>PAY</td>\n",
              "      <td>D</td>\n",
              "      <td>CIS</td>\n",
              "      <td>1957-10-04</td>\n",
              "      <td>TYMSC</td>\n",
              "      <td>1958-01-03</td>\n",
              "      <td>96.10</td>\n",
              "      <td>65.00</td>\n",
              "      <td>1080.0</td>\n",
              "      <td>64.0</td>\n",
              "      <td>NaN</td>\n",
              "      <td>NaN</td>\n",
              "      <td>EA</td>\n",
              "      <td>IMP</td>\n",
              "    </tr>\n",
              "    <tr>\n",
              "      <th>2</th>\n",
              "      <td>SPUTNIK 2</td>\n",
              "      <td>1957-002A</td>\n",
              "      <td>3</td>\n",
              "      <td>PAY</td>\n",
              "      <td>D</td>\n",
              "      <td>CIS</td>\n",
              "      <td>1957-11-03</td>\n",
              "      <td>TYMSC</td>\n",
              "      <td>1958-04-14</td>\n",
              "      <td>103.74</td>\n",
              "      <td>65.33</td>\n",
              "      <td>1659.0</td>\n",
              "      <td>211.0</td>\n",
              "      <td>0.080</td>\n",
              "      <td>NaN</td>\n",
              "      <td>EA</td>\n",
              "      <td>IMP</td>\n",
              "    </tr>\n",
              "    <tr>\n",
              "      <th>3</th>\n",
              "      <td>EXPLORER 1</td>\n",
              "      <td>1958-001A</td>\n",
              "      <td>4</td>\n",
              "      <td>PAY</td>\n",
              "      <td>D</td>\n",
              "      <td>US</td>\n",
              "      <td>1958-02-01</td>\n",
              "      <td>AFETR</td>\n",
              "      <td>1970-03-31</td>\n",
              "      <td>88.48</td>\n",
              "      <td>33.15</td>\n",
              "      <td>215.0</td>\n",
              "      <td>183.0</td>\n",
              "      <td>NaN</td>\n",
              "      <td>NaN</td>\n",
              "      <td>EA</td>\n",
              "      <td>IMP</td>\n",
              "    </tr>\n",
              "    <tr>\n",
              "      <th>4</th>\n",
              "      <td>VANGUARD 1</td>\n",
              "      <td>1958-002B</td>\n",
              "      <td>5</td>\n",
              "      <td>PAY</td>\n",
              "      <td>NaN</td>\n",
              "      <td>US</td>\n",
              "      <td>1958-03-17</td>\n",
              "      <td>AFETR</td>\n",
              "      <td>NaN</td>\n",
              "      <td>132.72</td>\n",
              "      <td>34.26</td>\n",
              "      <td>3833.0</td>\n",
              "      <td>648.0</td>\n",
              "      <td>0.122</td>\n",
              "      <td>NaN</td>\n",
              "      <td>EA</td>\n",
              "      <td>ORB</td>\n",
              "    </tr>\n",
              "  </tbody>\n",
              "</table>\n",
              "</div>\n",
              "      <button class=\"colab-df-convert\" onclick=\"convertToInteractive('df-1d1ad3d6-597d-41b4-a804-cbe7ed7c0156')\"\n",
              "              title=\"Convert this dataframe to an interactive table.\"\n",
              "              style=\"display:none;\">\n",
              "        \n",
              "  <svg xmlns=\"http://www.w3.org/2000/svg\" height=\"24px\"viewBox=\"0 0 24 24\"\n",
              "       width=\"24px\">\n",
              "    <path d=\"M0 0h24v24H0V0z\" fill=\"none\"/>\n",
              "    <path d=\"M18.56 5.44l.94 2.06.94-2.06 2.06-.94-2.06-.94-.94-2.06-.94 2.06-2.06.94zm-11 1L8.5 8.5l.94-2.06 2.06-.94-2.06-.94L8.5 2.5l-.94 2.06-2.06.94zm10 10l.94 2.06.94-2.06 2.06-.94-2.06-.94-.94-2.06-.94 2.06-2.06.94z\"/><path d=\"M17.41 7.96l-1.37-1.37c-.4-.4-.92-.59-1.43-.59-.52 0-1.04.2-1.43.59L10.3 9.45l-7.72 7.72c-.78.78-.78 2.05 0 2.83L4 21.41c.39.39.9.59 1.41.59.51 0 1.02-.2 1.41-.59l7.78-7.78 2.81-2.81c.8-.78.8-2.07 0-2.86zM5.41 20L4 18.59l7.72-7.72 1.47 1.35L5.41 20z\"/>\n",
              "  </svg>\n",
              "      </button>\n",
              "      \n",
              "  <style>\n",
              "    .colab-df-container {\n",
              "      display:flex;\n",
              "      flex-wrap:wrap;\n",
              "      gap: 12px;\n",
              "    }\n",
              "\n",
              "    .colab-df-convert {\n",
              "      background-color: #E8F0FE;\n",
              "      border: none;\n",
              "      border-radius: 50%;\n",
              "      cursor: pointer;\n",
              "      display: none;\n",
              "      fill: #1967D2;\n",
              "      height: 32px;\n",
              "      padding: 0 0 0 0;\n",
              "      width: 32px;\n",
              "    }\n",
              "\n",
              "    .colab-df-convert:hover {\n",
              "      background-color: #E2EBFA;\n",
              "      box-shadow: 0px 1px 2px rgba(60, 64, 67, 0.3), 0px 1px 3px 1px rgba(60, 64, 67, 0.15);\n",
              "      fill: #174EA6;\n",
              "    }\n",
              "\n",
              "    [theme=dark] .colab-df-convert {\n",
              "      background-color: #3B4455;\n",
              "      fill: #D2E3FC;\n",
              "    }\n",
              "\n",
              "    [theme=dark] .colab-df-convert:hover {\n",
              "      background-color: #434B5C;\n",
              "      box-shadow: 0px 1px 3px 1px rgba(0, 0, 0, 0.15);\n",
              "      filter: drop-shadow(0px 1px 2px rgba(0, 0, 0, 0.3));\n",
              "      fill: #FFFFFF;\n",
              "    }\n",
              "  </style>\n",
              "\n",
              "      <script>\n",
              "        const buttonEl =\n",
              "          document.querySelector('#df-1d1ad3d6-597d-41b4-a804-cbe7ed7c0156 button.colab-df-convert');\n",
              "        buttonEl.style.display =\n",
              "          google.colab.kernel.accessAllowed ? 'block' : 'none';\n",
              "\n",
              "        async function convertToInteractive(key) {\n",
              "          const element = document.querySelector('#df-1d1ad3d6-597d-41b4-a804-cbe7ed7c0156');\n",
              "          const dataTable =\n",
              "            await google.colab.kernel.invokeFunction('convertToInteractive',\n",
              "                                                     [key], {});\n",
              "          if (!dataTable) return;\n",
              "\n",
              "          const docLinkHtml = 'Like what you see? Visit the ' +\n",
              "            '<a target=\"_blank\" href=https://colab.research.google.com/notebooks/data_table.ipynb>data table notebook</a>'\n",
              "            + ' to learn more about interactive tables.';\n",
              "          element.innerHTML = '';\n",
              "          dataTable['output_type'] = 'display_data';\n",
              "          await google.colab.output.renderOutput(dataTable, element);\n",
              "          const docLink = document.createElement('div');\n",
              "          docLink.innerHTML = docLinkHtml;\n",
              "          element.appendChild(docLink);\n",
              "        }\n",
              "      </script>\n",
              "    </div>\n",
              "  </div>\n",
              "  "
            ]
          },
          "metadata": {},
          "execution_count": 4
        }
      ]
    },
    {
      "cell_type": "code",
      "source": [
        "df  = sat.dropna(subset=[\"DECAY_DATE\"])"
      ],
      "metadata": {
        "id": "0AmfxS44vf8O"
      },
      "execution_count": null,
      "outputs": []
    },
    {
      "cell_type": "code",
      "source": [
        "df.head()"
      ],
      "metadata": {
        "colab": {
          "base_uri": "https://localhost:8080/",
          "height": 287
        },
        "id": "O8QyLwOywQWz",
        "outputId": "e273be0d-9a72-4f7d-b8c6-f4c4ced7c8c9"
      },
      "execution_count": null,
      "outputs": [
        {
          "output_type": "execute_result",
          "data": {
            "text/plain": [
              "      OBJECT_NAME  OBJECT_ID  NORAD_CAT_ID OBJECT_TYPE OPS_STATUS_CODE OWNER  \\\n",
              "0        SL-1 R/B  1957-001A             1         R/B               D   CIS   \n",
              "7       SPUTNIK 3  1958-004B             8         PAY               D   CIS   \n",
              "22    JUNO II R/B  1959-009B            23         R/B               D    US   \n",
              "27  THOR ABLE R/B  1960-002A            28         R/B               D    US   \n",
              "59     EXPLORER 8  1960-014A            60         PAY               D    US   \n",
              "\n",
              "   LAUNCH_DATE LAUNCH_SITE  DECAY_DATE  PERIOD  INCLINATION  APOGEE  PERIGEE  \\\n",
              "0   1957-10-04       TYMSC  1957-12-01   96.19        65.10   938.0    214.0   \n",
              "7   1958-05-15       TYMSC  1960-04-06   88.43        65.06   255.0    139.0   \n",
              "22  1959-10-13       AFETR  1989-07-16   89.24        50.27   249.0    225.0   \n",
              "27  1960-04-01       AFETR  1991-07-03   87.80        48.34   168.0    163.0   \n",
              "59  1960-11-03       AFETR  2012-03-28   87.84        49.88   177.0    158.0   \n",
              "\n",
              "        RCS DATA_STATUS_CODE ORBIT_CENTER ORBIT_TYPE  \n",
              "0   20.4200              NaN           EA        IMP  \n",
              "7   11.8400              NaN           EA        IMP  \n",
              "22   0.5778              NaN           EA        IMP  \n",
              "27   1.6017              NaN           EA        IMP  \n",
              "59   0.4520              NaN           EA        IMP  "
            ],
            "text/html": [
              "\n",
              "  <div id=\"df-1fabb9f5-541e-462a-99d9-4ce4a0522593\">\n",
              "    <div class=\"colab-df-container\">\n",
              "      <div>\n",
              "<style scoped>\n",
              "    .dataframe tbody tr th:only-of-type {\n",
              "        vertical-align: middle;\n",
              "    }\n",
              "\n",
              "    .dataframe tbody tr th {\n",
              "        vertical-align: top;\n",
              "    }\n",
              "\n",
              "    .dataframe thead th {\n",
              "        text-align: right;\n",
              "    }\n",
              "</style>\n",
              "<table border=\"1\" class=\"dataframe\">\n",
              "  <thead>\n",
              "    <tr style=\"text-align: right;\">\n",
              "      <th></th>\n",
              "      <th>OBJECT_NAME</th>\n",
              "      <th>OBJECT_ID</th>\n",
              "      <th>NORAD_CAT_ID</th>\n",
              "      <th>OBJECT_TYPE</th>\n",
              "      <th>OPS_STATUS_CODE</th>\n",
              "      <th>OWNER</th>\n",
              "      <th>LAUNCH_DATE</th>\n",
              "      <th>LAUNCH_SITE</th>\n",
              "      <th>DECAY_DATE</th>\n",
              "      <th>PERIOD</th>\n",
              "      <th>INCLINATION</th>\n",
              "      <th>APOGEE</th>\n",
              "      <th>PERIGEE</th>\n",
              "      <th>RCS</th>\n",
              "      <th>DATA_STATUS_CODE</th>\n",
              "      <th>ORBIT_CENTER</th>\n",
              "      <th>ORBIT_TYPE</th>\n",
              "    </tr>\n",
              "  </thead>\n",
              "  <tbody>\n",
              "    <tr>\n",
              "      <th>0</th>\n",
              "      <td>SL-1 R/B</td>\n",
              "      <td>1957-001A</td>\n",
              "      <td>1</td>\n",
              "      <td>R/B</td>\n",
              "      <td>D</td>\n",
              "      <td>CIS</td>\n",
              "      <td>1957-10-04</td>\n",
              "      <td>TYMSC</td>\n",
              "      <td>1957-12-01</td>\n",
              "      <td>96.19</td>\n",
              "      <td>65.10</td>\n",
              "      <td>938.0</td>\n",
              "      <td>214.0</td>\n",
              "      <td>20.4200</td>\n",
              "      <td>NaN</td>\n",
              "      <td>EA</td>\n",
              "      <td>IMP</td>\n",
              "    </tr>\n",
              "    <tr>\n",
              "      <th>7</th>\n",
              "      <td>SPUTNIK 3</td>\n",
              "      <td>1958-004B</td>\n",
              "      <td>8</td>\n",
              "      <td>PAY</td>\n",
              "      <td>D</td>\n",
              "      <td>CIS</td>\n",
              "      <td>1958-05-15</td>\n",
              "      <td>TYMSC</td>\n",
              "      <td>1960-04-06</td>\n",
              "      <td>88.43</td>\n",
              "      <td>65.06</td>\n",
              "      <td>255.0</td>\n",
              "      <td>139.0</td>\n",
              "      <td>11.8400</td>\n",
              "      <td>NaN</td>\n",
              "      <td>EA</td>\n",
              "      <td>IMP</td>\n",
              "    </tr>\n",
              "    <tr>\n",
              "      <th>22</th>\n",
              "      <td>JUNO II R/B</td>\n",
              "      <td>1959-009B</td>\n",
              "      <td>23</td>\n",
              "      <td>R/B</td>\n",
              "      <td>D</td>\n",
              "      <td>US</td>\n",
              "      <td>1959-10-13</td>\n",
              "      <td>AFETR</td>\n",
              "      <td>1989-07-16</td>\n",
              "      <td>89.24</td>\n",
              "      <td>50.27</td>\n",
              "      <td>249.0</td>\n",
              "      <td>225.0</td>\n",
              "      <td>0.5778</td>\n",
              "      <td>NaN</td>\n",
              "      <td>EA</td>\n",
              "      <td>IMP</td>\n",
              "    </tr>\n",
              "    <tr>\n",
              "      <th>27</th>\n",
              "      <td>THOR ABLE R/B</td>\n",
              "      <td>1960-002A</td>\n",
              "      <td>28</td>\n",
              "      <td>R/B</td>\n",
              "      <td>D</td>\n",
              "      <td>US</td>\n",
              "      <td>1960-04-01</td>\n",
              "      <td>AFETR</td>\n",
              "      <td>1991-07-03</td>\n",
              "      <td>87.80</td>\n",
              "      <td>48.34</td>\n",
              "      <td>168.0</td>\n",
              "      <td>163.0</td>\n",
              "      <td>1.6017</td>\n",
              "      <td>NaN</td>\n",
              "      <td>EA</td>\n",
              "      <td>IMP</td>\n",
              "    </tr>\n",
              "    <tr>\n",
              "      <th>59</th>\n",
              "      <td>EXPLORER 8</td>\n",
              "      <td>1960-014A</td>\n",
              "      <td>60</td>\n",
              "      <td>PAY</td>\n",
              "      <td>D</td>\n",
              "      <td>US</td>\n",
              "      <td>1960-11-03</td>\n",
              "      <td>AFETR</td>\n",
              "      <td>2012-03-28</td>\n",
              "      <td>87.84</td>\n",
              "      <td>49.88</td>\n",
              "      <td>177.0</td>\n",
              "      <td>158.0</td>\n",
              "      <td>0.4520</td>\n",
              "      <td>NaN</td>\n",
              "      <td>EA</td>\n",
              "      <td>IMP</td>\n",
              "    </tr>\n",
              "  </tbody>\n",
              "</table>\n",
              "</div>\n",
              "      <button class=\"colab-df-convert\" onclick=\"convertToInteractive('df-1fabb9f5-541e-462a-99d9-4ce4a0522593')\"\n",
              "              title=\"Convert this dataframe to an interactive table.\"\n",
              "              style=\"display:none;\">\n",
              "        \n",
              "  <svg xmlns=\"http://www.w3.org/2000/svg\" height=\"24px\"viewBox=\"0 0 24 24\"\n",
              "       width=\"24px\">\n",
              "    <path d=\"M0 0h24v24H0V0z\" fill=\"none\"/>\n",
              "    <path d=\"M18.56 5.44l.94 2.06.94-2.06 2.06-.94-2.06-.94-.94-2.06-.94 2.06-2.06.94zm-11 1L8.5 8.5l.94-2.06 2.06-.94-2.06-.94L8.5 2.5l-.94 2.06-2.06.94zm10 10l.94 2.06.94-2.06 2.06-.94-2.06-.94-.94-2.06-.94 2.06-2.06.94z\"/><path d=\"M17.41 7.96l-1.37-1.37c-.4-.4-.92-.59-1.43-.59-.52 0-1.04.2-1.43.59L10.3 9.45l-7.72 7.72c-.78.78-.78 2.05 0 2.83L4 21.41c.39.39.9.59 1.41.59.51 0 1.02-.2 1.41-.59l7.78-7.78 2.81-2.81c.8-.78.8-2.07 0-2.86zM5.41 20L4 18.59l7.72-7.72 1.47 1.35L5.41 20z\"/>\n",
              "  </svg>\n",
              "      </button>\n",
              "      \n",
              "  <style>\n",
              "    .colab-df-container {\n",
              "      display:flex;\n",
              "      flex-wrap:wrap;\n",
              "      gap: 12px;\n",
              "    }\n",
              "\n",
              "    .colab-df-convert {\n",
              "      background-color: #E8F0FE;\n",
              "      border: none;\n",
              "      border-radius: 50%;\n",
              "      cursor: pointer;\n",
              "      display: none;\n",
              "      fill: #1967D2;\n",
              "      height: 32px;\n",
              "      padding: 0 0 0 0;\n",
              "      width: 32px;\n",
              "    }\n",
              "\n",
              "    .colab-df-convert:hover {\n",
              "      background-color: #E2EBFA;\n",
              "      box-shadow: 0px 1px 2px rgba(60, 64, 67, 0.3), 0px 1px 3px 1px rgba(60, 64, 67, 0.15);\n",
              "      fill: #174EA6;\n",
              "    }\n",
              "\n",
              "    [theme=dark] .colab-df-convert {\n",
              "      background-color: #3B4455;\n",
              "      fill: #D2E3FC;\n",
              "    }\n",
              "\n",
              "    [theme=dark] .colab-df-convert:hover {\n",
              "      background-color: #434B5C;\n",
              "      box-shadow: 0px 1px 3px 1px rgba(0, 0, 0, 0.15);\n",
              "      filter: drop-shadow(0px 1px 2px rgba(0, 0, 0, 0.3));\n",
              "      fill: #FFFFFF;\n",
              "    }\n",
              "  </style>\n",
              "\n",
              "      <script>\n",
              "        const buttonEl =\n",
              "          document.querySelector('#df-1fabb9f5-541e-462a-99d9-4ce4a0522593 button.colab-df-convert');\n",
              "        buttonEl.style.display =\n",
              "          google.colab.kernel.accessAllowed ? 'block' : 'none';\n",
              "\n",
              "        async function convertToInteractive(key) {\n",
              "          const element = document.querySelector('#df-1fabb9f5-541e-462a-99d9-4ce4a0522593');\n",
              "          const dataTable =\n",
              "            await google.colab.kernel.invokeFunction('convertToInteractive',\n",
              "                                                     [key], {});\n",
              "          if (!dataTable) return;\n",
              "\n",
              "          const docLinkHtml = 'Like what you see? Visit the ' +\n",
              "            '<a target=\"_blank\" href=https://colab.research.google.com/notebooks/data_table.ipynb>data table notebook</a>'\n",
              "            + ' to learn more about interactive tables.';\n",
              "          element.innerHTML = '';\n",
              "          dataTable['output_type'] = 'display_data';\n",
              "          await google.colab.output.renderOutput(dataTable, element);\n",
              "          const docLink = document.createElement('div');\n",
              "          docLink.innerHTML = docLinkHtml;\n",
              "          element.appendChild(docLink);\n",
              "        }\n",
              "      </script>\n",
              "    </div>\n",
              "  </div>\n",
              "  "
            ]
          },
          "metadata": {},
          "execution_count": 30
        }
      ]
    },
    {
      "cell_type": "markdown",
      "source": [],
      "metadata": {
        "id": "ZNXbyAHmxs84"
      }
    },
    {
      "cell_type": "code",
      "source": [
        "df.shape"
      ],
      "metadata": {
        "colab": {
          "base_uri": "https://localhost:8080/"
        },
        "id": "gIVw_SrhwhR5",
        "outputId": "9d5b4663-9c1a-428d-d6b4-df361f06ee1e"
      },
      "execution_count": null,
      "outputs": [
        {
          "output_type": "execute_result",
          "data": {
            "text/plain": [
              "(27505, 17)"
            ]
          },
          "metadata": {},
          "execution_count": 11
        }
      ]
    },
    {
      "cell_type": "code",
      "source": [
        "sat.shape"
      ],
      "metadata": {
        "colab": {
          "base_uri": "https://localhost:8080/"
        },
        "id": "H1vaQtKUwqUS",
        "outputId": "79bddc18-cf2d-41fc-a7f0-85cda3b8a1c2"
      },
      "execution_count": null,
      "outputs": [
        {
          "output_type": "execute_result",
          "data": {
            "text/plain": [
              "(53472, 17)"
            ]
          },
          "metadata": {},
          "execution_count": 12
        }
      ]
    },
    {
      "cell_type": "code",
      "source": [
        "df = df.dropna(subset=[\"RCS\"])"
      ],
      "metadata": {
        "id": "QEVkoPEOz2hC"
      },
      "execution_count": null,
      "outputs": []
    },
    {
      "cell_type": "code",
      "source": [
        "df.shape "
      ],
      "metadata": {
        "colab": {
          "base_uri": "https://localhost:8080/"
        },
        "id": "e9o0U9oa0bXt",
        "outputId": "87509ed1-0f1d-48a1-ad80-dfa062add2fc"
      },
      "execution_count": null,
      "outputs": [
        {
          "output_type": "execute_result",
          "data": {
            "text/plain": [
              "(16072, 17)"
            ]
          },
          "metadata": {},
          "execution_count": 18
        }
      ]
    },
    {
      "cell_type": "code",
      "source": [
        "df = df[df.RCS  > 0.16]"
      ],
      "metadata": {
        "id": "VltyHb2Nxmum"
      },
      "execution_count": null,
      "outputs": []
    },
    {
      "cell_type": "code",
      "source": [
        "df.shape "
      ],
      "metadata": {
        "colab": {
          "base_uri": "https://localhost:8080/"
        },
        "id": "_WQX_oE51fnJ",
        "outputId": "47695709-66fa-4177-92db-d191962dcd33"
      },
      "execution_count": null,
      "outputs": [
        {
          "output_type": "execute_result",
          "data": {
            "text/plain": [
              "(6492, 17)"
            ]
          },
          "metadata": {},
          "execution_count": 23
        }
      ]
    },
    {
      "cell_type": "code",
      "source": [
        "df = df[df.PERIGEE < 800]"
      ],
      "metadata": {
        "id": "KM58Ti1m2rEG"
      },
      "execution_count": null,
      "outputs": []
    },
    {
      "cell_type": "code",
      "source": [
        "df.shape "
      ],
      "metadata": {
        "colab": {
          "base_uri": "https://localhost:8080/"
        },
        "id": "1_UC1OOI3N1p",
        "outputId": "348fe443-e431-4cde-a5c5-da8dd1d0f01c"
      },
      "execution_count": null,
      "outputs": [
        {
          "output_type": "execute_result",
          "data": {
            "text/plain": [
              "(6456, 17)"
            ]
          },
          "metadata": {},
          "execution_count": 29
        }
      ]
    }
  ]
}